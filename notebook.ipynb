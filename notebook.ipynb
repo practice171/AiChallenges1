{
 "cells": [
  {
   "cell_type": "code",
   "execution_count": null,
   "metadata": {},
   "outputs": [],
   "source": []
  },
  {
   "cell_type": "code",
   "execution_count": 24,
   "metadata": {},
   "outputs": [
    {
     "name": "stdout",
     "output_type": "stream",
     "text": [
      "In the land of Python, where whitespace reigns,\n",
      "Indents and colons, no curly braces to chain.\n",
      "With elegance and simplicity, it dances and sings,\n",
      "A language so clean, where readability springs.\n",
      "\n",
      "From lists to dictionaries, and functions galore,\n",
      "Python's syntax is a joy to explore.\n",
      "Comprehensions and generators, so concise and neat,\n",
      "In Python's embrace, complexity retreats.\n",
      "\n",
      "Modules and packages, a community so vast,\n",
      "Where libraries thrive, and solutions are amassed.\n",
      "From web development to data science's might,\n",
      "Python shines bright, a beacon of light.\n",
      "\n",
      "So let us raise a toast to this language so grand,\n",
      "Python, the serpent, with a friendly hand.\n",
      "In code we trust, in Python we believe,\n",
      "A language for all, may it forever weave.This poem celebrates the programming language Python for its simplicity, elegance, and readability. The poet praises Python's unique features such as significant whitespace, indents, and colons instead of curly braces, which contribute to its clean and easy-to-understand syntax. The poem also highlights Python's versatility, from handling lists and dictionaries to offering comprehensions and generators that make code concise and neat.\n",
      "\n",
      "The poet admires Python's thriving community, vast libraries, and diverse applications, from web development to data science. Python is portrayed as a beacon of light in the world of programming, offering solutions and possibilities for all. The poem concludes with a toast to Python, symbolizing trust and belief in the language's capabilities to weave a bright future for developers."
     ]
    },
    {
     "data": {
      "text/plain": [
       "AIMessageChunk(content=\"This poem celebrates the programming language Python for its simplicity, elegance, and readability. The poet praises Python's unique features such as significant whitespace, indents, and colons instead of curly braces, which contribute to its clean and easy-to-understand syntax. The poem also highlights Python's versatility, from handling lists and dictionaries to offering comprehensions and generators that make code concise and neat.\\n\\nThe poet admires Python's thriving community, vast libraries, and diverse applications, from web development to data science. Python is portrayed as a beacon of light in the world of programming, offering solutions and possibilities for all. The poem concludes with a toast to Python, symbolizing trust and belief in the language's capabilities to weave a bright future for developers.\")"
      ]
     },
     "execution_count": 24,
     "metadata": {},
     "output_type": "execute_result"
    }
   ],
   "source": [
    "from langchain.chat_models import ChatOpenAI\n",
    "from langchain.prompts import ChatPromptTemplate\n",
    "from langchain.callbacks import StreamingStdOutCallbackHandler\n",
    "\n",
    "chat = ChatOpenAI(temperature=0.1, streaming=True, callbacks=[StreamingStdOutCallbackHandler(),],model=\"gpt-3.5-turbo\")\n",
    "\n",
    "poetry_prompt = ChatPromptTemplate.from_messages(\n",
    "    [\n",
    "        (\n",
    "            \"system\",\"You are a poet. What you do best is taking a programming language and expressing it as a poem while bringing out its unique characteristics.\",\n",
    "        ),\n",
    "        (\"human\",\"I want to new {language}'s poem.\")\n",
    "    ]\n",
    ")\n",
    "\n",
    "poetry_chain = poetry_prompt | chat\n",
    "\n",
    "poetry_analysis_prompt = ChatPromptTemplate.from_messages(\n",
    "    [\n",
    "        (\n",
    "            \"system\",\"You interpret poems. You are a famous literary scholar. You interpret poems in a way that lacks individuality but is understandable to most people. With a touch of engineering sensibility.\",\n",
    "        ),\n",
    "        (\n",
    "            \"human\",\"{analysis}\"\n",
    "        )\n",
    "    ]\n",
    ")\n",
    "\n",
    "poetry_analysis_chain = poetry_analysis_prompt | chat\n",
    "\n",
    "final_chian = {\"analysis\":poetry_chain} | poetry_analysis_chain\n",
    "\n",
    "final_chian.invoke({\"language\":\"python\"})\n"
   ]
  }
 ],
 "metadata": {
  "kernelspec": {
   "display_name": "env",
   "language": "python",
   "name": "python3"
  },
  "language_info": {
   "codemirror_mode": {
    "name": "ipython",
    "version": 3
   },
   "file_extension": ".py",
   "mimetype": "text/x-python",
   "name": "python",
   "nbconvert_exporter": "python",
   "pygments_lexer": "ipython3",
   "version": "3.11.11"
  }
 },
 "nbformat": 4,
 "nbformat_minor": 2
}
